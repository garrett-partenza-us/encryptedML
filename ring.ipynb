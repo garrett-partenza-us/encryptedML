{
 "cells": [
  {
   "cell_type": "code",
   "execution_count": 26,
   "metadata": {},
   "outputs": [],
   "source": [
    "import numpy as np\n",
    "from numpy.polynomial import polynomial as poly"
   ]
  },
  {
   "cell_type": "code",
   "execution_count": 2,
   "metadata": {},
   "outputs": [],
   "source": [
    "# https://blog.openmined.org/build-an-homomorphic-encryption-scheme-from-scratch-with-python/"
   ]
  },
  {
   "cell_type": "code",
   "execution_count": 27,
   "metadata": {},
   "outputs": [],
   "source": [
    "def polymul(x, y, modulus, poly_mod):\n",
    "    \"\"\"Add two polynoms\n",
    "    Args:\n",
    "        x, y: two polynoms to be added.\n",
    "        modulus: coefficient modulus.\n",
    "        poly_mod: polynomial modulus.\n",
    "    Returns:\n",
    "        A polynomial in Z_modulus[X]/(poly_mod).\n",
    "    \"\"\"\n",
    "    return np.int64(\n",
    "        np.round(poly.polydiv(poly.polymul(x, y) % modulus, poly_mod)[1] % modulus)\n",
    "    )\n",
    "\n",
    "\n",
    "def polyadd(x, y, modulus, poly_mod):\n",
    "    \"\"\"Multiply two polynoms\n",
    "    Args:\n",
    "        x, y: two polynoms to be multiplied.\n",
    "        modulus: coefficient modulus.\n",
    "        poly_mod: polynomial modulus.\n",
    "    Returns:\n",
    "        A polynomial in Z_modulus[X]/(poly_mod).\n",
    "    \"\"\"\n",
    "    return np.int64(\n",
    "        np.round(poly.polydiv(poly.polyadd(x, y) % modulus, poly_mod)[1] % modulus)\n",
    "    )"
   ]
  },
  {
   "cell_type": "code",
   "execution_count": 28,
   "metadata": {},
   "outputs": [],
   "source": [
    "def gen_binary_poly(size):\n",
    "    \"\"\"Generates a polynomial with coeffecients in [0, 1]\n",
    "    Args:\n",
    "        size: number of coeffcients, size-1 being the degree of the\n",
    "            polynomial.\n",
    "    Returns:\n",
    "        array of coefficients with the coeff[i] being \n",
    "        the coeff of x ^ i.\n",
    "    \"\"\"\n",
    "    return np.random.randint(0, 2, size, dtype=np.int64)\n",
    "\n",
    "\n",
    "def gen_uniform_poly(size, modulus):\n",
    "    \"\"\"Generates a polynomial with coeffecients being integers in Z_modulus\n",
    "    Args:\n",
    "        size: number of coeffcients, size-1 being the degree of the\n",
    "            polynomial.\n",
    "    Returns:\n",
    "        array of coefficients with the coeff[i] being \n",
    "        the coeff of x ^ i.\n",
    "    \"\"\"\n",
    "    return np.random.randint(0, modulus, size, dtype=np.int64)\n",
    "\n",
    "\n",
    "def gen_normal_poly(size):\n",
    "    \"\"\"Generates a polynomial with coeffecients in a normal distribution\n",
    "    of mean 0 and a standard deviation of 2, then discretize it.\n",
    "    Args:\n",
    "        size: number of coeffcients, size-1 being the degree of the\n",
    "            polynomial.\n",
    "    Returns:\n",
    "        array of coefficients with the coeff[i] being \n",
    "        the coeff of x ^ i.\n",
    "    \"\"\"\n",
    "    return np.int64(np.random.normal(0, 2, size=size))"
   ]
  },
  {
   "cell_type": "code",
   "execution_count": 29,
   "metadata": {},
   "outputs": [],
   "source": [
    "def keygen(size, modulus, poly_mod):\n",
    "    \"\"\"Generate a public and secret keys\n",
    "    Args:\n",
    "        size: size of the polynoms for the public and secret keys.\n",
    "        modulus: coefficient modulus.\n",
    "        poly_mod: polynomial modulus.\n",
    "    Returns:\n",
    "        Public and secret key.\n",
    "    \"\"\"\n",
    "    sk = gen_binary_poly(size)\n",
    "    a = gen_uniform_poly(size, modulus)\n",
    "    e = gen_normal_poly(size)\n",
    "    b = polyadd(polymul(-a, sk, modulus, poly_mod), -e, modulus, poly_mod)\n",
    "    return (b, a), sk"
   ]
  },
  {
   "cell_type": "code",
   "execution_count": 30,
   "metadata": {},
   "outputs": [],
   "source": [
    "def encrypt(pk, size, q, t, poly_mod, pt):\n",
    "    \"\"\"Encrypt an integer.\n",
    "    Args:\n",
    "        pk: public-key.\n",
    "        size: size of polynomials.\n",
    "        q: ciphertext modulus.\n",
    "        t: plaintext modulus.\n",
    "        poly_mod: polynomial modulus.\n",
    "        pt: integer to be encrypted.\n",
    "    Returns:\n",
    "        Tuple representing a ciphertext.      \n",
    "    \"\"\"\n",
    "    # encode the integer into a plaintext polynomial\n",
    "    m = np.array([pt] + [0] * (size - 1), dtype=np.int64) % t\n",
    "    delta = q // t\n",
    "    scaled_m = delta * m  % q\n",
    "    e1 = gen_normal_poly(size)\n",
    "    e2 = gen_normal_poly(size)\n",
    "    u = gen_binary_poly(size)\n",
    "    ct0 = polyadd(\n",
    "            polyadd(\n",
    "                polymul(pk[0], u, q, poly_mod),\n",
    "                e1, q, poly_mod),\n",
    "            scaled_m, q, poly_mod\n",
    "        )\n",
    "    ct1 = polyadd(\n",
    "            polymul(pk[1], u, q, poly_mod),\n",
    "            e2, q, poly_mod\n",
    "        )\n",
    "    return (ct0, ct1)"
   ]
  },
  {
   "cell_type": "code",
   "execution_count": 129,
   "metadata": {},
   "outputs": [],
   "source": [
    "# Scheme's parameters\n",
    "# polynomial modulus degree\n",
    "n = 2**4\n",
    "# ciphertext modulus\n",
    "q = 2**15\n",
    "# plaintext modulus\n",
    "t = 2**8\n",
    "# polynomial modulus\n",
    "poly_mod = np.array([1] + [0] * (n - 1) + [1])\n",
    "# generate pk and sk\n",
    "pk, sk = keygen(n, q, poly_mod)\n",
    "# integer to encrypt\n",
    "pt = 10"
   ]
  },
  {
   "cell_type": "code",
   "execution_count": 130,
   "metadata": {},
   "outputs": [],
   "source": [
    "ct = encrypt(pk, n, q, t, poly_mod, pt)"
   ]
  },
  {
   "cell_type": "code",
   "execution_count": 131,
   "metadata": {},
   "outputs": [
    {
     "name": "stdout",
     "output_type": "stream",
     "text": [
      "(16,) (16,)\n"
     ]
    }
   ],
   "source": [
    "print(ct[0].shape, ct[1].shape)"
   ]
  },
  {
   "cell_type": "code",
   "execution_count": 132,
   "metadata": {},
   "outputs": [],
   "source": [
    "def decrypt(sk, size, q, t, poly_mod, ct):\n",
    "    \"\"\"Decrypt a ciphertext\n",
    "    Args:\n",
    "        sk: secret-key.\n",
    "        size: size of polynomials.\n",
    "        q: ciphertext modulus.\n",
    "        t: plaintext modulus.\n",
    "        poly_mod: polynomial modulus.\n",
    "        ct: ciphertext.\n",
    "    Returns:\n",
    "        Integer representing the plaintext.\n",
    "    \"\"\"\n",
    "    scaled_pt = polyadd(\n",
    "            polymul(ct[1], sk, q, poly_mod),\n",
    "            ct[0], q, poly_mod\n",
    "        )\n",
    "    decrypted_poly = np.round(scaled_pt * t / q) % t\n",
    "    return int(decrypted_poly[0])"
   ]
  },
  {
   "cell_type": "code",
   "execution_count": 133,
   "metadata": {},
   "outputs": [
    {
     "data": {
      "text/plain": [
       "10"
      ]
     },
     "execution_count": 133,
     "metadata": {},
     "output_type": "execute_result"
    }
   ],
   "source": [
    "decrypt(sk, n, q, t, poly_mod, ct)"
   ]
  },
  {
   "cell_type": "code",
   "execution_count": 134,
   "metadata": {},
   "outputs": [],
   "source": [
    "def add_plain(ct, pt, q, t, poly_mod):\n",
    "    \"\"\"Add a ciphertext and a plaintext.\n",
    "    Args:\n",
    "        ct: ciphertext.\n",
    "        pt: integer to add.\n",
    "        q: ciphertext modulus.\n",
    "        t: plaintext modulus.\n",
    "        poly_mod: polynomial modulus.\n",
    "    Returns:\n",
    "        Tuple representing a ciphertext.\n",
    "    \"\"\"\n",
    "    size = len(poly_mod) - 1\n",
    "    # encode the integer into a plaintext polynomial\n",
    "    m = np.array([pt] + [0] * (size - 1), dtype=np.int64) % t\n",
    "    delta = q // t\n",
    "    scaled_m = delta * m  % q\n",
    "    new_ct0 = polyadd(ct[0], scaled_m, q, poly_mod)\n",
    "    return (new_ct0, ct[1])"
   ]
  },
  {
   "cell_type": "code",
   "execution_count": 135,
   "metadata": {},
   "outputs": [],
   "source": [
    "ct_add = add_plain(ct, 1, q, t, poly_mod)"
   ]
  },
  {
   "cell_type": "code",
   "execution_count": 136,
   "metadata": {},
   "outputs": [
    {
     "data": {
      "text/plain": [
       "11"
      ]
     },
     "execution_count": 136,
     "metadata": {},
     "output_type": "execute_result"
    }
   ],
   "source": [
    "decrypt(sk, n, q, t, poly_mod, ct_add)"
   ]
  },
  {
   "cell_type": "code",
   "execution_count": 137,
   "metadata": {},
   "outputs": [],
   "source": [
    "def mul_plain(ct, pt, q, t, poly_mod):\n",
    "    \"\"\"Multiply a ciphertext and a plaintext.\n",
    "    Args:\n",
    "        ct: ciphertext.\n",
    "        pt: integer to multiply.\n",
    "        q: ciphertext modulus.\n",
    "        t: plaintext modulus.\n",
    "        poly_mod: polynomial modulus.\n",
    "    Returns:\n",
    "        Tuple representing a ciphertext.\n",
    "    \"\"\"\n",
    "    size = len(poly_mod) - 1\n",
    "    # encode the integer into a plaintext polynomial\n",
    "    m = np.array([pt] + [0] * (size - 1), dtype=np.int64) % t\n",
    "    new_c0 = polymul(ct[0], m, q, poly_mod)\n",
    "    new_c1 = polymul(ct[1], m, q, poly_mod)\n",
    "    return (new_c0, new_c1)"
   ]
  },
  {
   "cell_type": "code",
   "execution_count": 138,
   "metadata": {},
   "outputs": [],
   "source": [
    "ct_mul = mul_plain(ct, 3, q, t, poly_mod)"
   ]
  },
  {
   "cell_type": "code",
   "execution_count": 139,
   "metadata": {},
   "outputs": [
    {
     "data": {
      "text/plain": [
       "30"
      ]
     },
     "execution_count": 139,
     "metadata": {},
     "output_type": "execute_result"
    }
   ],
   "source": [
    "decrypt(sk, n, q, t, poly_mod, ct_mul)"
   ]
  },
  {
   "cell_type": "code",
   "execution_count": 140,
   "metadata": {},
   "outputs": [
    {
     "data": {
      "text/plain": [
       "10"
      ]
     },
     "execution_count": 140,
     "metadata": {},
     "output_type": "execute_result"
    }
   ],
   "source": [
    "decrypt(sk, n, q, t, poly_mod, ct)"
   ]
  },
  {
   "cell_type": "code",
   "execution_count": 141,
   "metadata": {},
   "outputs": [],
   "source": [
    "new_ct = (polymul(ct[0], ct[0], q, poly_mod), polymul(ct[1], ct[1], q, poly_mod))"
   ]
  },
  {
   "cell_type": "code",
   "execution_count": 142,
   "metadata": {},
   "outputs": [
    {
     "data": {
      "text/plain": [
       "32"
      ]
     },
     "execution_count": 142,
     "metadata": {},
     "output_type": "execute_result"
    }
   ],
   "source": [
    "decrypt(sk, n, q, t, poly_mod, new_ct)"
   ]
  },
  {
   "cell_type": "code",
   "execution_count": null,
   "metadata": {},
   "outputs": [],
   "source": []
  },
  {
   "cell_type": "code",
   "execution_count": null,
   "metadata": {},
   "outputs": [],
   "source": []
  }
 ],
 "metadata": {
  "kernelspec": {
   "display_name": ".venv",
   "language": "python",
   "name": "python3"
  },
  "language_info": {
   "codemirror_mode": {
    "name": "ipython",
    "version": 3
   },
   "file_extension": ".py",
   "mimetype": "text/x-python",
   "name": "python",
   "nbconvert_exporter": "python",
   "pygments_lexer": "ipython3",
   "version": "3.11.3"
  },
  "orig_nbformat": 4
 },
 "nbformat": 4,
 "nbformat_minor": 2
}
